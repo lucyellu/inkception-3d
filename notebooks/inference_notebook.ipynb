{
  "cells": [
    {
      "cell_type": "markdown",
      "metadata": {
        "id": "bb4nzBvLfZUj"
      },
      "source": [
        "#Vesuvius Scroll Challenge\n",
        "\n"
      ]
    },
    {
      "cell_type": "markdown",
      "metadata": {
        "id": "O0Zxb1PzrbUx"
      },
      "source": [
        "##set up"
      ]
    },
    {
      "cell_type": "code",
      "execution_count": null,
      "metadata": {
        "id": "Lt9q1aNPezo-",
        "colab": {
          "base_uri": "https://localhost:8080/"
        },
        "outputId": "a4180663-c48a-49ea-85d8-151f2e22ae7c"
      },
      "outputs": [
        {
          "output_type": "stream",
          "name": "stdout",
          "text": [
            "Mounted at /content/drive\n"
          ]
        }
      ],
      "source": [
        "from google.colab import drive\n",
        "drive.mount('/content/drive')"
      ]
    },
    {
      "cell_type": "code",
      "execution_count": null,
      "metadata": {
        "id": "cIsuYNU5glnV"
      },
      "outputs": [],
      "source": [
        "!apt install python3.10-venv"
      ]
    },
    {
      "cell_type": "code",
      "execution_count": null,
      "metadata": {
        "id": "BpUxZ7R8gdXC"
      },
      "outputs": [],
      "source": [
        "!python3 -m venv ~/scroll_venv"
      ]
    },
    {
      "cell_type": "code",
      "execution_count": null,
      "metadata": {
        "id": "MVC-0_ClgrdZ"
      },
      "outputs": [],
      "source": [
        "!source ~/scroll_venv/bin/activate"
      ]
    },
    {
      "cell_type": "code",
      "execution_count": null,
      "metadata": {
        "colab": {
          "base_uri": "https://localhost:8080/"
        },
        "id": "VTnViEOQqdtE",
        "outputId": "6ad3512a-5d03-43a8-c483-42bc6c8f78b4"
      },
      "outputs": [
        {
          "output_type": "stream",
          "name": "stdout",
          "text": [
            "/content/drive/MyDrive/A_Scroll/inception-3d\n"
          ]
        }
      ],
      "source": [
        "%cd /content/drive/MyDrive/A_Scroll/"
      ]
    },
    {
      "cell_type": "code",
      "execution_count": null,
      "metadata": {
        "id": "_INCbCNqH_rQ"
      },
      "outputs": [],
      "source": [
        "!git clone https://github.com/lucyellu/inkception-3d.git"
      ]
    },
    {
      "cell_type": "code",
      "source": [
        "%cd /content/drive/MyDrive/A_Scroll/inkception-3d"
      ],
      "metadata": {
        "id": "mab8v3z_RUaE"
      },
      "execution_count": null,
      "outputs": []
    },
    {
      "cell_type": "markdown",
      "metadata": {
        "id": "UjLBu9qarkMj"
      },
      "source": [
        "##install"
      ]
    },
    {
      "cell_type": "code",
      "execution_count": null,
      "metadata": {
        "id": "GX9K3ul_qdvk"
      },
      "outputs": [],
      "source": [
        "!pip install -r requirements.txt"
      ]
    },
    {
      "cell_type": "code",
      "execution_count": null,
      "metadata": {
        "id": "coP6-9N17di_"
      },
      "outputs": [],
      "source": [
        "!apt-get install imagemagick\n"
      ]
    },
    {
      "cell_type": "code",
      "execution_count": null,
      "metadata": {
        "id": "5Jtwxk4NgwVL"
      },
      "outputs": [],
      "source": [
        "!pip install torch torchvision pillow torchio tqdm wandb matplotlib\n"
      ]
    },
    {
      "cell_type": "code",
      "execution_count": null,
      "metadata": {
        "id": "J6ZFzd3GrJqU"
      },
      "outputs": [],
      "source": [
        "!pip install pytorch_lightning\n",
        "!pip install segmentation_models_pytorch\n",
        "!pip install warmup_scheduler\n",
        "!pip install wandb\n",
        "!pip install typed-argument-parser  # Install the correct package"
      ]
    },
    {
      "cell_type": "code",
      "execution_count": null,
      "metadata": {
        "id": "FjDZjjFa3NzM"
      },
      "outputs": [],
      "source": [
        "!pip install albumentations\n",
        "from albumentations.pytorch import ToTensorV2"
      ]
    },
    {
      "cell_type": "markdown",
      "metadata": {
        "id": "Vsnsx7-Kw0qK"
      },
      "source": [
        "#inference"
      ]
    },
    {
      "cell_type": "code",
      "execution_count": null,
      "metadata": {
        "colab": {
          "base_uri": "https://localhost:8080/",
          "height": 75
        },
        "id": "HYFjY3wohphy",
        "outputId": "2c3184d0-074b-4136-df9d-ad508145b2af"
      },
      "outputs": [
        {
          "output_type": "display_data",
          "data": {
            "text/plain": [
              "<IPython.core.display.HTML object>"
            ],
            "text/html": [
              "<audio src=\"https://github.com/anars/blank-audio/raw/master/1-hour-of-silence.mp3\" autoplay muted loop controls />\n"
            ]
          },
          "metadata": {}
        }
      ],
      "source": [
        "#@markdown To prevent Colab from disconnecting you, here is a music player that will loop infinitely (it's silent):\n",
        "%%html\n",
        "<audio src=\"https://github.com/anars/blank-audio/raw/master/1-hour-of-silence.mp3\" autoplay muted loop controls />"
      ]
    },
    {
      "cell_type": "markdown",
      "metadata": {
        "id": "M2_X0Ul1qck7"
      },
      "source": [
        "###parameters"
      ]
    },
    {
      "cell_type": "code",
      "source": [
        "# class InferenceArgumentParser(Tap):\n",
        "#     segment_id: str = '20230702185753'\n",
        "#     segment_path: str = './eval_segments'\n",
        "#     model_path: str = 'outputs/vesuvius/pretraining_all/vesuvius-models/valid_20230827161847_0_fr_i3depoch=7.ckpt'\n",
        "#     out_path: str = '/content/drive/MyDrive/A_Scroll/inception-3d/outputs'\n",
        "#     stride: int = 32\n",
        "#     start_idx: int = start_idx\n",
        "#     end_idx: int = end_idx\n",
        "#     workers: int = 8\n",
        "#     batch_size: int = 512\n",
        "#     size: int = 64\n",
        "#     reverse: int = 0"
      ],
      "metadata": {
        "id": "KaAgKnL-9FYJ"
      },
      "execution_count": null,
      "outputs": []
    },
    {
      "cell_type": "markdown",
      "source": [
        "##20230702185753"
      ],
      "metadata": {
        "id": "0jdtxwtp_ZeT"
      }
    },
    {
      "cell_type": "code",
      "source": [
        "!python inference_stride32.py --segment_id 20230702185753 --start_idx 20 --end_idx 28 --stride 32"
      ],
      "metadata": {
        "id": "3sGtqa84_a-p"
      },
      "execution_count": null,
      "outputs": []
    }
  ],
  "metadata": {
    "accelerator": "GPU",
    "colab": {
      "collapsed_sections": [
        "O0Zxb1PzrbUx",
        "UjLBu9qarkMj",
        "Vsnsx7-Kw0qK",
        "M2_X0Ul1qck7"
      ],
      "provenance": [],
      "machine_shape": "hm",
      "gpuType": "T4"
    },
    "kernelspec": {
      "display_name": "Python 3",
      "name": "python3"
    },
    "language_info": {
      "name": "python"
    }
  },
  "nbformat": 4,
  "nbformat_minor": 0
}